{
  "nbformat": 4,
  "nbformat_minor": 0,
  "metadata": {
    "colab": {
      "name": "NREL Spring 2022 Penultimate",
      "provenance": [],
      "collapsed_sections": [],
      "include_colab_link": true
    },
    "kernelspec": {
      "name": "python3",
      "display_name": "Python 3"
    },
    "language_info": {
      "name": "python"
    }
  },
  "cells": [
    {
      "cell_type": "markdown",
      "metadata": {
        "id": "view-in-github",
        "colab_type": "text"
      },
      "source": [
        "<a href=\"https://colab.research.google.com/github/Tenrog/NREL_Spring_2022_Penultimate.ipynb/blob/Patrick's-Branch/NREL_Spring_2022_Penultimate.ipynb\" target=\"_parent\"><img src=\"https://colab.research.google.com/assets/colab-badge.svg\" alt=\"Open In Colab\"/></a>"
      ]
    },
    {
      "cell_type": "markdown",
      "source": [
        "**Implementing Random Sketching in GMRes**"
      ],
      "metadata": {
        "id": "tNg5WFjLBipV"
      }
    },
    {
      "cell_type": "markdown",
      "source": [
        "#Work Breakdown"
      ],
      "metadata": {
        "id": "tjDcXEA4Bj92"
      }
    },
    {
      "cell_type": "markdown",
      "source": [
        "* Em Gibbs: Main writer, main coder. Organized and composed the notebook. Researched sparse matrix sketching. Tested Spring 2021 sketching functions. Assisted with RGMRes coding.\n",
        "* Haonan He: Manager, coder. Researched random skething, RGS Arnoldi, and randomized GMRes. Wrote RGMRes code implmentation.\n",
        "* Patrick Gornet: Main debugger, coder, communicator. Led communication with sponsor. Researched classical GMRes. Wrote classical GMRes implementations. Assisted with RGMRes coding."
      ],
      "metadata": {
        "id": "7YQrOuaxBlkS"
      }
    },
    {
      "cell_type": "markdown",
      "source": [
        "#Abstract"
      ],
      "metadata": {
        "id": "4VENh9jODehX"
      }
    },
    {
      "cell_type": "markdown",
      "source": [
        "When solving linear systems of equations in the form $Ax = b$ where $A$ and $b$ are given, finding the exact value of $x$ for a large-dimension $A$ can be extremely inefficient. Iterative methods like GMRes can speed up this computation time by finding $x$ values that satisfy the equation within a specified margin of error, but are still slow. By introducing random sketching into GMRes, in which $n$ dimensions are randomly embedded into $k$ dimensions such that $k \\ll n$, this project hopes to greatly reduce the computation time of $x$."
      ],
      "metadata": {
        "id": "aXOReZ1WDf86"
      }
    },
    {
      "cell_type": "markdown",
      "source": [
        "#Introduction"
      ],
      "metadata": {
        "id": "wvMUYgTnFHBd"
      }
    },
    {
      "cell_type": "markdown",
      "source": [
        "* When a matrix or vector is sketched, its dimensions are reduced. This is useful since algorithms like GMRes perform many inner products, so reducing the dimensions of the matrices involved in these inner products can reduce the computational effort necessary in each iteration of the algorithm.\n",
        "* The National Renewable Energy Laboratory (NREL), the sponsor of this project, often works with $A$ matrices with dimensions in the billions. Reducing one of those dimensions by a significant factor will more significantly reduce this computational effort.\n",
        "* The Spring 2021 Math Clinic NREL team worked on developing an implementation of the Gram-Schmidt process using random sketching, based on the paper \"Randomized Gram-Schmidt process with application to GMRES\" by Grigori and Balabanov. Since GMRes uses the Modified Gram-Schmidt (MGS), this project aims to implement the Randomized Gram-Schmidt (RGS) in its place, along with other implementations of sketching.\n",
        "* This project therefore will consider pre-existing implementations and pseudocode of GMRes, modifying them or constructing new implementations suited to integrating the random sketching methods defined in the Grigori & Balabanov paper.\n",
        "* When an implementation of GMRes with random sketching is fully developed, this project will test this implemenation against other GMRes implementations for computational time and accuracy."
      ],
      "metadata": {
        "id": "bumcJR6GFIpB"
      }
    },
    {
      "cell_type": "markdown",
      "source": [
        "#Methods"
      ],
      "metadata": {
        "id": "ZYRSIU6GGBfP"
      }
    },
    {
      "cell_type": "markdown",
      "source": [
        "##Imports"
      ],
      "metadata": {
        "id": "wOAxhGNLGE11"
      }
    },
    {
      "cell_type": "code",
      "source": [
        "import numpy as np\n",
        "import math\n",
        "import time\n",
        "import matplotlib.pyplot as plt\n",
        "import matplotlib.lines as line\n",
        "import plotly.express as px\n",
        "from tabulate import tabulate"
      ],
      "metadata": {
        "id": "qm8RqOgLGGEH"
      },
      "execution_count": null,
      "outputs": []
    },
    {
      "cell_type": "markdown",
      "source": [
        "##Random Sketching"
      ],
      "metadata": {
        "id": "nLtOg_mpFTO_"
      }
    },
    {
      "cell_type": "markdown",
      "source": [
        "Since this project is building off of the work done by the Spring 2021 NREL team, we will be using similar matrices to them for testing. That is, while testing the implementation of RGS, we will use $n$ values in the hundreds or thousands, $m$ values in the tens or hundreds, and $k$ values in between there. If the algorithms run well in these ranges, they should also be applicable to much larger sized matrices."
      ],
      "metadata": {
        "id": "n3K20Po4fXwj"
      }
    },
    {
      "cell_type": "markdown",
      "source": [
        "###Important Functions"
      ],
      "metadata": {
        "id": "V5qLkZBMH2zF"
      }
    },
    {
      "cell_type": "markdown",
      "source": [
        "The following functions are taken from the Spring 2021 NREL Math Clinic project, and are important for testing later in this section and elsewhere in the notebook."
      ],
      "metadata": {
        "id": "RRHj5n7PH9-b"
      }
    },
    {
      "cell_type": "code",
      "source": [
        "#https://colab.research.google.com/drive/1F8fiuN3Qg2zQ0EMobHcCDuuLVlwqkTWv\n",
        "#Defining important functions\n",
        "\n",
        "#Defining matrix multiplication function\n",
        "def mat_mul(x,y):\n",
        "  return np.matmul(x,y) #AF: coders asked to write a faster code based on Θ structure\n",
        "\n",
        "#Building Θ Matrix\n",
        "def Theta_Matrix(k,n): #AF: brute force implementation\n",
        "  Theta = (np.random.randint(0,2,size=(k,n))*2-1)*math.sqrt(k)**-1\n",
        "  return Theta\n",
        "\n",
        "#Finds smallest possible k from inequality 3a using values set above.\n",
        "def mink(ϵ, d, δ):                           # δ, ϵ are local here\n",
        "  min_k = 7.87*ϵ**-2*(6.9*d + math.log(1/δ)) #AF: Grigori & Balabanov (3a)\n",
        "  return min_k"
      ],
      "metadata": {
        "id": "ey1FxAi1IHhd"
      },
      "execution_count": null,
      "outputs": []
    },
    {
      "cell_type": "markdown",
      "source": [
        "###Balabanov & Grigori Inequality 2.1"
      ],
      "metadata": {
        "id": "3PUUULrtGle6"
      }
    },
    {
      "cell_type": "markdown",
      "source": [
        "The following inequality is defined as Definition 2.1 in the Balabanov and Grigori paper (i.e., the definition of an ϵ-subspace embedding for V):\n",
        "$$∀x, y∈V; |<x;y> - <Θx;Θy>| ≤ ε||x||⋅||y||$$ \n",
        "\n",
        "For a sketching matrix Θ, δ is equal to the failure rate of inequality 2.1.\n",
        "\n",
        "The following code blocks test various random vectors x and y from V to determine a failure rate δ for inequality 2.1. The function inequality2 is taken from the Spring 2021 NREL Math Clinic project.\n",
        "\n",
        "By choosing and varying k and d in the generation of the Θ matrix, we hope to discover ε and δ values using the following inequality 2.2a:\n",
        "\n",
        "$$k≥7.87ε^{-2}(6.9d + log(1/δ))$$"
      ],
      "metadata": {
        "id": "Q_9XM47pGpjV"
      }
    },
    {
      "cell_type": "code",
      "source": [
        "#https://colab.research.google.com/drive/1F8fiuN3Qg2zQ0EMobHcCDuuLVlwqkTWv\n",
        "\n",
        "def inequality2(V, d, Θ, ϵ):\n",
        "  #Getting x and y arrays in V subspace\n",
        "  a = np.random.normal(0,1,d)\n",
        "  x_from_V =  mat_mul(V, a)\n",
        "  b = np.random.normal(0,1,d) \n",
        "  y_from_V = mat_mul(V, b)\n",
        "  #Matrix vector products of Θ and x,y\n",
        "  theta_x = mat_mul(Θ, x_from_V)\n",
        "  theta_y = mat_mul(Θ, y_from_V)\n",
        "  #Calculate right and left hand side of the equation\n",
        "  LHS = abs(np.inner(x_from_V,y_from_V) - np.inner(theta_x, theta_y))\n",
        "  RHS = ϵ*np.linalg.norm(x_from_V)*np.linalg.norm(y_from_V)\n",
        "  #Comparing RHS to LHS   \n",
        "  if LHS <= RHS:  #AF: I asked to return and inspect (RHS – LHS) to see how close the success is\n",
        "    return True\n",
        "  else:\n",
        "    return False"
      ],
      "metadata": {
        "id": "frGzd7-RJOpc"
      },
      "execution_count": null,
      "outputs": []
    },
    {
      "cell_type": "code",
      "source": [
        "#Test function for inequality 2\n",
        "def test_inequality2(num_iters, V, d, Θ, ϵ):\n",
        "  passes = 0\n",
        "  failures = 0\n",
        "  for i in range(num_iters):\n",
        "    if inequality2(V, d, Θ, ϵ):\n",
        "      passes += 1\n",
        "    else:\n",
        "      failures += 1\n",
        "\n",
        "  return failures / (failures + passes)"
      ],
      "metadata": {
        "id": "u6kPkhnzgRNj"
      },
      "execution_count": null,
      "outputs": []
    },
    {
      "cell_type": "code",
      "source": [
        "#assign variables\n",
        "n = 5000\n",
        "ϵ = 1/2\n",
        "d = [5, 50, 500]\n",
        "k = [500, 1000, 2000, 4000]\n",
        "\n",
        "for d_iter in d:\n",
        "  for k_iter in k:\n",
        "    #generate theta\n",
        "    Θ = Theta_Matrix(k_iter, n)\n",
        "    V = np.random.normal(0, 1, (n, d_iter))\n",
        "\n",
        "    #iterate test inequality 2.1 100 times\n",
        "    iter = 100\n",
        "    failrate = test_inequality2(iter, V, d_iter, Θ, ϵ)\n",
        "\n",
        "    print(\"For k = \", k_iter, \", d = \", d_iter, \":\")\n",
        "    print(\"Failure rate = \", failrate)"
      ],
      "metadata": {
        "colab": {
          "base_uri": "https://localhost:8080/"
        },
        "id": "UybXccXoJvzK",
        "outputId": "354e5147-7cf5-47db-98ee-c0cf943a084c"
      },
      "execution_count": null,
      "outputs": [
        {
          "output_type": "stream",
          "name": "stdout",
          "text": [
            "For k =  500 , d =  5 :\n",
            "Failure rate =  0.0\n",
            "For k =  1000 , d =  5 :\n",
            "Failure rate =  0.0\n",
            "For k =  2000 , d =  5 :\n",
            "Failure rate =  0.0\n",
            "For k =  4000 , d =  5 :\n",
            "Failure rate =  0.0\n",
            "For k =  500 , d =  50 :\n",
            "Failure rate =  0.0\n",
            "For k =  1000 , d =  50 :\n",
            "Failure rate =  0.0\n",
            "For k =  2000 , d =  50 :\n",
            "Failure rate =  0.0\n",
            "For k =  4000 , d =  50 :\n",
            "Failure rate =  0.0\n",
            "For k =  500 , d =  500 :\n",
            "Failure rate =  0.0\n",
            "For k =  1000 , d =  500 :\n",
            "Failure rate =  0.0\n",
            "For k =  2000 , d =  500 :\n",
            "Failure rate =  0.0\n",
            "For k =  4000 , d =  500 :\n",
            "Failure rate =  0.0\n"
          ]
        }
      ]
    },
    {
      "cell_type": "markdown",
      "source": [
        "The Spring 2021 NREL Math Clinic team also tested several possible values for these variables in the inequality 2.1, but could never get the inequality to fail as long as other necessary inequalities for the variables still held. This seemed strange, as we then have no basis for the selection of δ. However, we can see that these variable tests also produced no failures of the inequality, so we will continue to use the Spring 2021 chosen variable values (δ of 0.9 and ε of 1/2)."
      ],
      "metadata": {
        "id": "ZsFOeyRKKLQ6"
      }
    },
    {
      "cell_type": "markdown",
      "source": [
        "###Testing Spring 2021 Randomized Gram-Schmidt"
      ],
      "metadata": {
        "id": "3uLUAheYNCje"
      }
    },
    {
      "cell_type": "markdown",
      "source": [
        "The following functions are taken from the Spring 2021 NREL Math Clinic project. This code block has an implementation of Gram-Schmidt taken from Professor Liu, and their implementation of Randomized Gram-Schmidt (RGS)."
      ],
      "metadata": {
        "id": "67QT6EtxNGRW"
      }
    },
    {
      "cell_type": "code",
      "source": [
        "#https://colab.research.google.com/drive/1F8fiuN3Qg2zQ0EMobHcCDuuLVlwqkTWv\n",
        "'(Liu)'\n",
        "'Used to compare RGS with classic GS'\n",
        "def reduced_QR(A):\n",
        "  \"\"\"\n",
        "  Perform reduced QR factorization with Gram Schmidt orthogonalization\n",
        "  for the columns of Areturn Q: a matrix of size m x n with orthonormal columns\n",
        "  R: an upper triagular matrix of size n x n\n",
        "  \"\"\"\n",
        "  n, m = A.shape                          #AF: m, n swapped cf. rest of code\n",
        "  Q = np.zeros((n,m))\n",
        "  R = np.zeros((m,m))\n",
        "  for i in range(m):\n",
        "    y = A[:, i]\n",
        "    for j in range(i):\n",
        "      R[j,i] = np.dot(Q[:,j], A[:,i])\n",
        "      y = y - R[j,i]*Q[:,j]\n",
        "    R[i,i] = np.linalg.norm(y)\n",
        "    Q[:,i] = y/R[i,i]\n",
        "\n",
        "    #print(\"Reduced QR\")\n",
        "    #print(\"R[i,i]\", R[i,i])\n",
        "  return Q, R\n",
        "\n",
        "def rand_QR(A, k):\n",
        "  #Setting Values                           #AF: B&G Algo. 2 requires m ≤ k << n\n",
        "  m = A.shape[1]\n",
        "  n = A.shape[0]\n",
        "  Θ = Theta_Matrix(k,n)\n",
        "  #Setting zero matrices to build\n",
        "  Q = np.zeros((n,m))\n",
        "  R = np.zeros((m,m))                       #AF: could use sparse structure\n",
        "  S = np.zeros((k,m))                       #AF: S need not be formed\n",
        "  p = np.dot(Θ, A)                          #AF: p need not be formed\n",
        "  for i in range(m):                        #AF: So i here is i–1 in RGS_balabanov_grigori_2020.pdf\n",
        "    #steps 2, 3:\n",
        "    if i == 0:\n",
        "      #step 3\n",
        "      q_prime_i = A[:,i]\n",
        "    else:\n",
        "      new_holder = S[:,i-1]                 #AF: B&G Algo. 2 says S[:,:i] not S[:,i-1]\n",
        "      new_holder = np.reshape(new_holder, (k,1))\n",
        "      holder = np.linalg.pinv(new_holder)   #AF: the pinv of a tall S is always (S⸆S)⁻¹S⸆\n",
        "      r_i = np.dot(holder, p)               #AF: np.linalg.solve(S⸆S,S⸆p) would be faster\n",
        "      R[i-1,:] = r_i                        #AF: not indexed like B&G Algo. 2 step 2\n",
        "      q_prime_i = A[:,i] - np.dot(Q, R[:,i])#AF: not indexed like B&G Algo. 2 step 3\n",
        "    #step 4\n",
        "    s_prime_i = np.dot(Θ, q_prime_i)\n",
        "    #step 5\n",
        "    r = np.linalg.norm(s_prime_i)\n",
        "    #step 6\n",
        "    s_i = s_prime_i/r\n",
        "    #step 7\n",
        "    q_i = q_prime_i/r\n",
        "    #Building Q, R, S\n",
        "    Q[:,i] = q_i\n",
        "    S[:,i] = s_i\n",
        "    if i==(m-1):                            #AF: this whole block is some ghastly kluge against above errors\n",
        "      new_holder = S[:,i]\n",
        "      new_holder = np.reshape(new_holder, (k,1))\n",
        "      holder = np.linalg.pinv(new_holder)\n",
        "      r_i = np.dot(holder, p)\n",
        "      R[i,:] = r_i\n",
        "      for k in range(m):\n",
        "        R[k+1:,k] = 0\n",
        "  return Q, R, Θ"
      ],
      "metadata": {
        "id": "8oxfreEINQ72"
      },
      "execution_count": null,
      "outputs": []
    },
    {
      "cell_type": "markdown",
      "source": [
        "Additionally, the following function RGS_testing was also taken from the Spring 2021 project, but modified slightly."
      ],
      "metadata": {
        "id": "pS6WWATuNdyc"
      }
    },
    {
      "cell_type": "code",
      "source": [
        "#https://colab.research.google.com/drive/1F8fiuN3Qg2zQ0EMobHcCDuuLVlwqkTWv\n",
        "#Numerical Stability Test\n",
        "#iter is number of iterations\n",
        "def RGS_testing(iter, A, k):\n",
        "  results = []\n",
        "  times = []\n",
        "  for i in range(iter):\n",
        "    #Performing the QR decompositions and tracking the time\n",
        "    tic = time.perf_counter()\n",
        "    GS_Q, GS_R = reduced_QR(A)\n",
        "    toc = time.perf_counter()\n",
        "    GS_time = toc - tic\n",
        "    tic = time.perf_counter()\n",
        "    RGS_Q, RGS_R, sketch_mat = rand_QR(A, k)\n",
        "    toc = time.perf_counter()\n",
        "    RGS_time = toc - tic\n",
        "    time_diff = GS_time - RGS_time\n",
        "    #Finding and comparing the accuracy of the two methods\n",
        "    GS_results = A - mat_mul(GS_Q, GS_R)\n",
        "    GS_Ortho = np.identity(np.shape(A)[1]) - GS_Q.T @ GS_Q\n",
        "    RGS_results = A - mat_mul(RGS_Q, RGS_R)\n",
        "    RGS_Ortho = (sketch_mat @ RGS_Q).T @ sketch_mat @ RGS_Q - np.identity(np.shape(A)[1])\n",
        "    GS_norm = np.linalg.norm(GS_results)/np.linalg.norm(A)\n",
        "    RGS_norm = np.linalg.norm(RGS_results)/np.linalg.norm(A)\n",
        "    GS_Onorm = np.linalg.norm(GS_Ortho)/(np.sqrt(np.shape(A)[1]))\n",
        "    RGS_Onorm = np.linalg.norm(RGS_Ortho)/(np.sqrt(np.shape(A)[1]))\n",
        "    accuracy = (GS_norm, RGS_norm, GS_Onorm, RGS_Onorm)\n",
        "    #Setting results\n",
        "    results = [GS_norm, RGS_norm, GS_Onorm, RGS_Onorm]\n",
        "    times.append(time_diff)\n",
        "  return results, times"
      ],
      "metadata": {
        "id": "fwV3qIDpNgHa"
      },
      "execution_count": null,
      "outputs": []
    },
    {
      "cell_type": "markdown",
      "source": [
        "The following code comapres runtime and accuracy of GS and last Spring's implementation of RGS."
      ],
      "metadata": {
        "id": "ljbWWq2sOfHj"
      }
    },
    {
      "cell_type": "code",
      "source": [
        "#variable declarations\n",
        "n = 100\n",
        "m = 50\n",
        "k = 75\n",
        "\n",
        "A = np.random.rand(n, m)\n",
        "iter = 1\n",
        "\n",
        "#run tests\n",
        "results, times = RGS_testing(iter, A, k)\n",
        "\n",
        "#print results\n",
        "for i in range(iter):\n",
        "  print(\"Reduced QR Accuracy: \", results[0])\n",
        "  print(\"Rand QR Accuracy: \", results[1])\n",
        "  print(\"Reduced QR Orthogonality: \", results[2])\n",
        "  print(\"Rand QR Orthogonality: \", results[3])\n",
        "  print(\"The time difference was: \" + str(times[i]))\n",
        "  if times[i] < 0:\n",
        "    print(\"Gram Schmidt was quicker than RGS here.\")\n",
        "  elif times[i] == 0:\n",
        "    print(\"RGS and GS took the same time here.\")\n",
        "  else:\n",
        "    print(\"RGS was quicker than GS here.\")\n",
        "  print(\"\\n\")"
      ],
      "metadata": {
        "colab": {
          "base_uri": "https://localhost:8080/"
        },
        "id": "ZgCob0v7N3qY",
        "outputId": "ea94b6fe-0ba2-481f-901c-5b7c186819ea"
      },
      "execution_count": null,
      "outputs": [
        {
          "output_type": "stream",
          "name": "stdout",
          "text": [
            "Reduced QR Accuracy:  2.3765860905174157e-16\n",
            "Rand QR Accuracy:  1.602867893064244e-15\n",
            "Reduced QR Orthogonality:  2.4540899653727825e-15\n",
            "Rand QR Orthogonality:  1.0713968484038808e-14\n",
            "The time difference was: 0.0007449389995599631\n",
            "RGS was quicker than GS here.\n",
            "\n",
            "\n"
          ]
        }
      ]
    },
    {
      "cell_type": "markdown",
      "source": [
        "Although the RGS function runs as fast as the MGS function, the accuracy is not as good. Without spending more time working with the code, it is hard to say what is causing this difference in error. There is a similar difference in orthogonality of the Q returned from the functions."
      ],
      "metadata": {
        "id": "ek2GmeNHSwRE"
      }
    },
    {
      "cell_type": "markdown",
      "source": [
        "While the Spring 2021 NREL Math Clinic team managed to develop a working Randomized Gram-Schmidt function, there are issues with the accuracy. Additionally, the function is not constructed in a way that is conducive to implementing it into a full RGMRes. Rather than trying to debug and modify the code to work for us, we opted to develop our own implementation of the full RGMRes as described in the Grigori & Balabanov paper."
      ],
      "metadata": {
        "id": "s3gWnDAqTMPS"
      }
    },
    {
      "cell_type": "markdown",
      "source": [
        "###Testing Algo_2"
      ],
      "metadata": {
        "id": "fmt2kYGfWFhH"
      }
    },
    {
      "cell_type": "markdown",
      "source": [
        "We developed our own implementation of randomized GMRes. In doing so, we also developed our own implementation of RGS. This function is defined as algo_2. The following code defines algo_2, as well as a modified RGS_testing function for comparison. The algo_2 function is also defined so that we can easily decide whether to use GMRes with or without sketching."
      ],
      "metadata": {
        "id": "SBsVzNoSUO3R"
      }
    },
    {
      "cell_type": "code",
      "source": [
        "#Balabanov & Grigori Algorithm 2 (RGS)\n",
        "#Parameters: nxm array W, kxn array sketch_mat, boolean sketch\n",
        "#Returns: nxm factor Q, mxm upper triangular factor R\n",
        "def algo_2(W, sketch_mat, sketch):\n",
        "  \n",
        "    if (sketch):\n",
        "      def my_sketch(sketch_mat, mat):\n",
        "        return sketch_mat @ mat\n",
        "    else:\n",
        "      def my_sketch(sketch_mat, mat):\n",
        "        return mat\n",
        "\n",
        "    #Getting sizes of matrices\n",
        "    n, m = W.shape\n",
        "    k = len(sketch_mat)\n",
        "\n",
        "    #Initializing zero matrices\n",
        "    S = np.zeros((n,m))\n",
        "    S = my_sketch(sketch_mat, S)\n",
        "    Q = np.zeros((n,m))\n",
        "    R = np.zeros((m,m))\n",
        "\n",
        "    #RGS Algorithm\n",
        "    for i in range(m):\n",
        "        #2.1: Sketch w_i: p_i = Θw_i\n",
        "        p = my_sketch(sketch_mat, W[:,i])\n",
        "\n",
        "        q_p = W[:,i]\n",
        "        #2.2: Solve k x (i-1) least-squares problem:\n",
        "        #   R_1:i-1,i = arg min_y ||(S_i-1)y - p_i||\n",
        "        #   pinv method\n",
        "        S_pinv = np.linalg.pinv(S[:,:i])\n",
        "        R[:i,i] = S_pinv @ p\n",
        "        #   lstsq method\n",
        "        #R[:i,i] = np.linalg.lstsq(S[:,:i],p)\n",
        "        #   fournier method\n",
        "        #S_sub = S[:,:i]\n",
        "        #StS = np.dot(S_sub.transpose(),S_sub)\n",
        "        #Stp = np.dot(S_sub.transpose(), p)\n",
        "        #R[:i,i] = np.linalg.solve(StS, Stp)\n",
        "        #2.3: Compute projection of w_i: q_i_p = w_i - (Q_i-1)R_1:i-1,i\n",
        "        q_p = q_p - np.dot(Q[:,:i],R[:i,i])\n",
        "        #2.4: Sketch q_i_p: s_i_p = Θq_i_p\n",
        "        s_p = my_sketch(sketch_mat, q_p)\n",
        "        #2.5: Compute the sketched norm r_i,i = ||s_i_p||\n",
        "        R[i,i] = np.linalg.norm(s_p)\n",
        "        #2.6: Scale vector s_i = s_i_p/r_i.i\n",
        "        S[:,i] = s_p/R[i,i]\n",
        "        #2.7: Scale vector q_i = q_i_p/r_i.i\n",
        "        Q[:,i] = q_p/R[i,i]\n",
        "    return Q, R\n",
        "\n",
        "def RGS_testing_2(iter, W, k):\n",
        "    sketch = True\n",
        "\n",
        "    results = []\n",
        "    times = []\n",
        "    for i in range(iter):\n",
        "        sketch_mat=Theta_Matrix(k,n)\n",
        "        tic = time.perf_counter()\n",
        "        GS_Q, GS_R = reduced_QR(W)\n",
        "        toc = time.perf_counter()\n",
        "        GS_time = toc - tic\n",
        "        tic = time.perf_counter()\n",
        "        RGS_Q, RGS_R = algo_2(W, sketch_mat, sketch)\n",
        "        toc = time.perf_counter()\n",
        "        RGS_time = toc - tic\n",
        "        time_diff = GS_time - RGS_time\n",
        "    #Finding and comparing the accuracy of the two methods\n",
        "        GS_results = W - mat_mul(GS_Q, GS_R)\n",
        "        GS_Ortho = np.identity(np.shape(W)[1]) - GS_Q.T @ GS_Q\n",
        "        RGS_results = W - mat_mul(RGS_Q, RGS_R)\n",
        "        RGS_Ortho = (sketch_mat @ RGS_Q).T @ sketch_mat @ RGS_Q - np.identity(np.shape(W)[1])\n",
        "        GS_norm = np.linalg.norm(GS_results)/np.linalg.norm(W)\n",
        "        RGS_norm = np.linalg.norm(RGS_results)/np.linalg.norm(W)\n",
        "        GS_Onorm = np.linalg.norm(GS_Ortho)/(np.sqrt(np.shape(W)[1]))\n",
        "        RGS_Onorm = np.linalg.norm(RGS_Ortho)/(np.sqrt(np.shape(W)[1]))\n",
        "        accuracy = (GS_norm, RGS_norm, GS_Onorm, RGS_Onorm)\n",
        "    #Setting results\n",
        "        results.append(accuracy)\n",
        "        times.append(time_diff)\n",
        "    return results, times"
      ],
      "metadata": {
        "id": "wywAtxO3UNsS"
      },
      "execution_count": null,
      "outputs": []
    },
    {
      "cell_type": "markdown",
      "source": [
        "The following code defines testing functions for algo_2."
      ],
      "metadata": {
        "id": "M99jTCs9A-bF"
      }
    },
    {
      "cell_type": "code",
      "source": [
        "def AllGS_testing(A, k):\n",
        "  sketch_mat=Theta_Matrix(k,np.shape(A)[0])\n",
        "  #Performing the QR decompositions and tracking the time\n",
        "  GS_Q, GS_R = reduced_QR(A)\n",
        "  RGS_Q, RGS_R, Θ = rand_QR(A, k)\n",
        "  ALGO_Q, ALGO_R = algo_2(A, sketch_mat, False)\n",
        "  SALGO_Q, SALGO_R = algo_2(A, sketch_mat, True)\n",
        "\n",
        "  #Finding and comparing the accuracy of the two methods\n",
        "  GS_results = A - mat_mul(GS_Q, GS_R)\n",
        "  GS_Ortho = np.identity(np.shape(A)[1]) - GS_Q.T @ GS_Q\n",
        "  RGS_results = A - mat_mul(RGS_Q, RGS_R)\n",
        "  RGS_Ortho = (Θ @ RGS_Q).T @ Θ @ RGS_Q - np.identity(np.shape(A)[1])\n",
        "  ALGO_results = A - mat_mul(ALGO_Q, ALGO_R)\n",
        "  ALGO_Ortho = np.identity(np.shape(A)[1]) - ALGO_Q.T @ ALGO_Q\n",
        "  SALGO_results = A - mat_mul(SALGO_Q, SALGO_R)\n",
        "  SALGO_Ortho = (sketch_mat @ SALGO_Q).T @ sketch_mat @ SALGO_Q - np.identity(np.shape(A)[1])\n",
        "\n",
        "\n",
        "\n",
        "  GS_norm = np.linalg.norm(GS_results)/np.linalg.norm(A)\n",
        "  GS_Onorm = np.linalg.norm(GS_Ortho)/(np.sqrt(np.shape(A)[1]))\n",
        "  RGS_norm = np.linalg.norm(RGS_results)/np.linalg.norm(A)\n",
        "  RGS_Onorm = np.linalg.norm(RGS_Ortho)/(np.sqrt(np.shape(A)[1]))\n",
        "  ALGO_norm = np.linalg.norm(ALGO_results)/np.linalg.norm(A)\n",
        "  ALGO_Onorm = np.linalg.norm(ALGO_Ortho)/(np.sqrt(np.shape(A)[1]))\n",
        "  SALGO_norm = np.linalg.norm(SALGO_results)/np.linalg.norm(A)\n",
        "  SALGO_Onorm = np.linalg.norm(SALGO_Ortho)/(np.sqrt(np.shape(A)[1])) \n",
        "\n",
        "  data = [[\"reduced_QR\", \"No\", GS_norm, GS_Onorm],\n",
        "  [\"algo_2\", \"No\", ALGO_norm, ALGO_Onorm],\n",
        "  [\"rand_QR\", \"Yes\", RGS_norm, RGS_Onorm],\n",
        "  [\"algo_2\", \"Yes\", SALGO_norm, SALGO_Onorm]]\n",
        "  print (tabulate(data, headers=[\"Algorithm\", \"Sketching?\", \"Accuracy\", \"Orthogonality\"]))\n",
        "  return data"
      ],
      "metadata": {
        "id": "Fl2U4zMKiwni"
      },
      "execution_count": null,
      "outputs": []
    },
    {
      "cell_type": "markdown",
      "source": [
        "The following code tests algo_2 against reduced_QR and rand_QR."
      ],
      "metadata": {
        "id": "oi4suoW-Uy_4"
      }
    },
    {
      "cell_type": "code",
      "source": [
        "n = 350\n",
        "m = 250\n",
        "k = 300\n",
        "W = np.random.rand(n, m)\n",
        "#run tests\n",
        "print(\"A = (\", n, \"x\", m, \")\")\n",
        "print(\"k = \", k)\n",
        "data = AllGS_testing(W, k)\n",
        "print()"
      ],
      "metadata": {
        "colab": {
          "base_uri": "https://localhost:8080/"
        },
        "id": "k2JSbr0NUiXZ",
        "outputId": "8c4c6b0d-75e5-487f-94d9-594f8b2b9bda"
      },
      "execution_count": null,
      "outputs": [
        {
          "output_type": "stream",
          "name": "stdout",
          "text": [
            "A = ( 350 x 250 )\n",
            "k =  300\n",
            "Algorithm    Sketching?       Accuracy    Orthogonality\n",
            "-----------  ------------  -----------  ---------------\n",
            "reduced_QR   No            5.25316e-16      1.42545e-14\n",
            "algo_2       No            5.07608e-16      5.16546e-15\n",
            "rand_QR      Yes           6.00632e-15      7.81891e-14\n",
            "algo_2       Yes           5.3334e-16       0.0786778\n",
            "\n"
          ]
        }
      ]
    },
    {
      "cell_type": "markdown",
      "source": [
        "We can see that our non-sketching algo_2 implementation has accuracy comparable to the reduced_QR by Professor Liu, and the Q returned by the function is even closer to orthogonal than the other implementations. The sketching version of algo_2 has accuracy better than rand_QR by last Spring's team, and once again is closer to orthogonal than it. We can then surmise that we've developed a very accurate implementation of Randomized Gram Schmidt as defined by Grigori and Balabanov."
      ],
      "metadata": {
        "id": "Z8XofEepWOsh"
      }
    },
    {
      "cell_type": "markdown",
      "source": [
        "##Randomized GMRes"
      ],
      "metadata": {
        "id": "UWe6o8kxVYHO"
      }
    },
    {
      "cell_type": "markdown",
      "source": [
        "###Grigori & Balabanov Algorithms"
      ],
      "metadata": {
        "id": "H8w2hY0TVbSm"
      }
    },
    {
      "cell_type": "markdown",
      "source": [
        "The randomized GMRes implementation developed was based on the following two algorithms from the Grigori & Balabanov paper, along with the following minimization step to calculate a new guess after each iteration.\n",
        "\n",
        "<img src='https://i.imgur.com/ewbMXkZ.png'>\n",
        "\n",
        "<img src='https://i.imgur.com/bVKQtyD.png'>\n",
        "\n",
        "<img src='https://i.imgur.com/9gxHgff.png'>"
      ],
      "metadata": {
        "id": "q39E1tUpVfgI"
      }
    },
    {
      "cell_type": "markdown",
      "source": [
        "Given the above algorithms, and using the Sauer GMRes implementation to guide the logic of this implementation's development, the following randomized GMRes was developed."
      ],
      "metadata": {
        "id": "pO5J9aNxXNUZ"
      }
    },
    {
      "cell_type": "markdown",
      "source": [
        "###Randomized GMRes Implementation"
      ],
      "metadata": {
        "id": "U0cC5u86AX_T"
      }
    },
    {
      "cell_type": "markdown",
      "source": [
        "The following function is the minimization step of the randomized GMRes algorithm."
      ],
      "metadata": {
        "id": "SfL-5SAJXvyD"
      }
    },
    {
      "cell_type": "code",
      "source": [
        "#Parameters: arrays A, Q, R, sketch_mat\n",
        "#Returns: array x\n",
        "def find_x(A, Q, R, sketch_mat):\n",
        "    #Getting sizes of matrices\n",
        "    n = len(Q)\n",
        "    m = len(Q[0])\n",
        "\n",
        "    #Minimize function\n",
        "    b = np.zeros((m,1))\n",
        "    b[0] = R[0,0]\n",
        "\n",
        "    sketched_AQ = my_sketch(sketch_mat, A)\n",
        "    sketched_AQ = np.dot(sketched_AQ, Q[:,:m])\n",
        "    sketched_b = np.dot(my_sketch(sketch_mat, Q), b)\n",
        "\n",
        "    y = np.linalg.lstsq(sketched_AQ, sketched_b)[0]\n",
        "\n",
        "    x = np.dot(Q[:,:m],y)\n",
        "\n",
        "    return x"
      ],
      "metadata": {
        "id": "jgITeUHkX16K"
      },
      "execution_count": null,
      "outputs": []
    },
    {
      "cell_type": "markdown",
      "source": [
        "The following code is a test case of the above find_x function."
      ],
      "metadata": {
        "id": "58ASwW58sxOW"
      }
    },
    {
      "cell_type": "code",
      "source": [
        "def test_find_x():\n",
        "  sketch = True\n",
        "  if (sketch):\n",
        "    def my_sketch(sketch_mat, mat):\n",
        "      return sketch_mat @ mat\n",
        "  else:\n",
        "    def my_sketch(sketch_mat, mat):\n",
        "      return mat\n",
        "\n",
        "  A = np.array([[1,2],[3,4]])\n",
        "  Q = np.identity(2)\n",
        "  B = A @ Q\n",
        "  x = np.array([[B[1,1],-B[1,0]]]).T\n",
        "  print(\"x True\")\n",
        "  print(x)\n",
        "  b = B @ x\n",
        "  result = find_x(A, Q, np.array([b[0]]), np.array([[6,7],[8,9]]))\n",
        "  print(\"Calculated x\")\n",
        "  print(result)"
      ],
      "metadata": {
        "id": "fLgdYhHVBYEX"
      },
      "execution_count": null,
      "outputs": []
    },
    {
      "cell_type": "code",
      "source": [
        "test_find_x()"
      ],
      "metadata": {
        "id": "NTHEIoPQt5qV",
        "outputId": "5ec604a4-70db-4847-f65a-c1482985ec75",
        "colab": {
          "base_uri": "https://localhost:8080/"
        }
      },
      "execution_count": null,
      "outputs": [
        {
          "output_type": "stream",
          "name": "stdout",
          "text": [
            "x True\n",
            "[[ 4.]\n",
            " [-3.]]\n",
            "Calculated x\n",
            "[[ 4.]\n",
            " [-3.]]\n"
          ]
        },
        {
          "output_type": "stream",
          "name": "stderr",
          "text": [
            "/usr/local/lib/python3.7/dist-packages/ipykernel_launcher.py:16: FutureWarning: `rcond` parameter will change to the default of machine precision times ``max(M, N)`` where M and N are the input matrix dimensions.\n",
            "To use the future default and silence this warning we advise to pass `rcond=None`, to keep using the old, explicitly pass `rcond=-1`.\n",
            "  app.launch_new_instance()\n"
          ]
        }
      ]
    },
    {
      "cell_type": "markdown",
      "source": [
        "Since this (brief) test of find_x returned the exact same result as the expected x, we can surmise it runs correctly."
      ],
      "metadata": {
        "id": "eOt-GymlundL"
      }
    },
    {
      "cell_type": "markdown",
      "source": [
        "The following code implements randomized GMRes using algo_2 and find_x."
      ],
      "metadata": {
        "id": "UHleHEMmX5hX"
      }
    },
    {
      "cell_type": "code",
      "source": [
        "#RGS-Arnoldi GMRes\n",
        "#Parameters: nxm array A, nx1 array b, kxn array sketch_mat, bool sketch\n",
        "#Returns: nxm factor array Q_m, mxm upper triangular factor R_m, result array X\n",
        "def my_random_gmres(A, b, x_true, sketch_mat, sketch = False, err_tol = 1e-8):\n",
        "\n",
        "    #Getting sizes of matrices\n",
        "    n = len(A)\n",
        "    m = len(A[0])\n",
        "\n",
        "    #3.1: Set w_1 = b\n",
        "    W = b\n",
        "    #3.2: Perform 1st iteration of Algorithm 2\n",
        "    Q, R = algo_2(W, sketch_mat, sketch)\n",
        "\n",
        "    for i in range(1, m):\n",
        "        #3.3: Compute w_i = Aq_i-1\n",
        "        w_i = np.dot(A,Q[:,[i-1]])\n",
        "        W = np.hstack((W, w_i))\n",
        "\n",
        "        #3.4: Perform i-th iteration of Algorithm 2\n",
        "        Q, R = algo_2(W, sketch_mat, sketch)\n",
        "\n",
        "        #Minimize step to find next x guess\n",
        "        x = find_x(A, Q, R, sketch_mat)\n",
        "\n",
        "        #Error tolerance test\n",
        "        #curr_err = sum(abs(x_true - x))\n",
        "        #print(i+1, curr_err)\n",
        "        #if curr_err < err_tol:\n",
        "        #    return Q, R, x, i+1\n",
        "\n",
        "    return Q, R, x, i+1"
      ],
      "metadata": {
        "id": "TRqs2zfZX4rv"
      },
      "execution_count": null,
      "outputs": []
    },
    {
      "cell_type": "markdown",
      "source": [
        "The following code tests my_random_gmres."
      ],
      "metadata": {
        "id": "V5aD5Lg1Ckj-"
      }
    },
    {
      "cell_type": "code",
      "source": [
        "n = 20\n",
        "k = 20\n",
        "#np.random.seed(11)\n",
        "A = np.random.rand(n,n)\n",
        "x_true = np.random.rand(n,1)\n",
        "x_true /= np.linalg.norm(x_true)\n",
        "b = np.dot(A,x_true)\n",
        "sketch_mat = Theta_Matrix(k,n)\n",
        "sketch = True\n",
        "\n",
        "if (sketch):\n",
        "  def my_sketch(sketch_mat, mat):\n",
        "    return sketch_mat @ mat\n",
        "else:\n",
        "  def my_sketch(sketch_mat, mat):\n",
        "    return mat\n",
        "\n",
        "Q, R, x, iter = my_random_gmres(A, b, x_true, sketch_mat, sketch)\n",
        "print(\"x True\")\n",
        "print(x_true.T)\n",
        "print(\"RGMRes x\")\n",
        "print(x.T)\n",
        "print(\"GMRes Error\")\n",
        "print((x_true - x).T)\n",
        "print(\"GMRes sum(abs(error))\")\n",
        "print(sum(abs(x_true - x)))"
      ],
      "metadata": {
        "colab": {
          "base_uri": "https://localhost:8080/"
        },
        "id": "DaPqYkPBCoIp",
        "outputId": "910db0a2-eb70-401f-8888-d451022e11ac"
      },
      "execution_count": null,
      "outputs": [
        {
          "output_type": "stream",
          "name": "stdout",
          "text": [
            "x True\n",
            "[[0.10340212 0.19540893 0.0522525  0.03919367 0.32534822 0.33989577\n",
            "  0.26399068 0.25060782 0.0059231  0.16574397 0.27563477 0.14169302\n",
            "  0.04825621 0.40494473 0.03780138 0.2923374  0.10849784 0.35418526\n",
            "  0.26960837 0.07947763]]\n",
            "RGMRes x\n",
            "[[0.10340212 0.19540893 0.0522525  0.03919367 0.32534822 0.33989577\n",
            "  0.26399068 0.25060782 0.0059231  0.16574397 0.27563477 0.14169302\n",
            "  0.04825621 0.40494473 0.03780138 0.2923374  0.10849784 0.35418526\n",
            "  0.26960837 0.07947763]]\n",
            "GMRes Error\n",
            "[[-2.23709939e-14 -1.51073598e-13 -6.07708328e-14  2.55052923e-13\n",
            "  -3.63042929e-14 -1.72861725e-13  2.49189558e-13  1.25732758e-13\n",
            "   5.99095426e-14  2.08832951e-13 -1.42219569e-13  1.14158683e-13\n",
            "  -1.25635613e-13 -7.03881398e-14  1.16087695e-14  2.59792188e-14\n",
            "  -1.47604151e-13  1.92068583e-13 -6.07847106e-14 -2.21780927e-13]]\n",
            "GMRes sum(abs(error))\n",
            "[2.45432754e-12]\n"
          ]
        },
        {
          "output_type": "stream",
          "name": "stderr",
          "text": [
            "/usr/local/lib/python3.7/dist-packages/ipykernel_launcher.py:16: FutureWarning: `rcond` parameter will change to the default of machine precision times ``max(M, N)`` where M and N are the input matrix dimensions.\n",
            "To use the future default and silence this warning we advise to pass `rcond=None`, to keep using the old, explicitly pass `rcond=-1`.\n",
            "  app.launch_new_instance()\n"
          ]
        }
      ]
    },
    {
      "cell_type": "markdown",
      "source": [
        "This GMRes implementation works consistently when sketching is not involved, but has issues when it is. When k = n, this implementation runs very well most of the time, though sometimes runs into failures."
      ],
      "metadata": {
        "id": "FiPFLi1JX9pg"
      }
    },
    {
      "cell_type": "markdown",
      "source": [
        "#Results & Discussion"
      ],
      "metadata": {
        "id": "x-G6a00ZYVvT"
      }
    },
    {
      "cell_type": "markdown",
      "source": [
        "## Randomized GMRes Testing"
      ],
      "metadata": {
        "id": "9d7LaoZAzYyz"
      }
    },
    {
      "cell_type": "markdown",
      "source": [
        "Note: For the following code blocks, this error may appear:\n",
        "\n",
        "ValueError: On entry to DLASCL parameter number 4 had an illegal value\n",
        "\n",
        "If this error appears, simply try running the code again, as it is a known bug and not an issue with our code."
      ],
      "metadata": {
        "id": "2kWOJDIo_v27"
      }
    },
    {
      "cell_type": "markdown",
      "source": [
        "Testing failures of GMRes with sketching for k = n at several different k, n values."
      ],
      "metadata": {
        "id": "iA9BoG2csqoa"
      }
    },
    {
      "cell_type": "markdown",
      "source": [
        "Note: The code below took several minutes to run on last execution."
      ],
      "metadata": {
        "id": "Pbi24C7LSL2A"
      }
    },
    {
      "cell_type": "code",
      "source": [
        "n_list = [5, 10, 20, 50, 100]\n",
        "norm_errs = np.zeros((len(n_list),10))\n",
        "\n",
        "sketch = True\n",
        "\n",
        "if (sketch):\n",
        "  def my_sketch(sketch_mat, mat):\n",
        "    return sketch_mat @ mat\n",
        "else:\n",
        "  def my_sketch(sketch_mat, mat):\n",
        "    return mat\n",
        "\n",
        "h = 0\n",
        "for n in n_list:\n",
        "  for i in range(len(norm_errs[0])):\n",
        "    A = np.random.rand(n,n)\n",
        "    x_true = np.random.rand(n,1)\n",
        "    x_true /= np.linalg.norm(x_true)\n",
        "    b = np.dot(A,x_true)\n",
        "    sketch_mat = Theta_Matrix(n,n)\n",
        "    Q, R, x, iter = my_random_gmres(A, b, x_true, sketch_mat, sketch)\n",
        "    norm_errs[h,i] = sum(abs(x_true - x))\n",
        "  h = h + 1"
      ],
      "metadata": {
        "colab": {
          "base_uri": "https://localhost:8080/"
        },
        "id": "d9zzAyZwtbBu",
        "outputId": "7eb44802-4f05-4537-ea7a-785e62699846"
      },
      "execution_count": null,
      "outputs": [
        {
          "output_type": "stream",
          "name": "stderr",
          "text": [
            "/usr/local/lib/python3.7/dist-packages/ipykernel_launcher.py:16: FutureWarning: `rcond` parameter will change to the default of machine precision times ``max(M, N)`` where M and N are the input matrix dimensions.\n",
            "To use the future default and silence this warning we advise to pass `rcond=None`, to keep using the old, explicitly pass `rcond=-1`.\n",
            "  app.launch_new_instance()\n"
          ]
        }
      ]
    },
    {
      "cell_type": "markdown",
      "source": [
        "The following code prints a plot of the failure rates of GMRes with sketching (when k = n) for several n values."
      ],
      "metadata": {
        "id": "u9iPHB-VStBL"
      }
    },
    {
      "cell_type": "code",
      "source": [
        "failures = np.zeros(len(norm_errs))\n",
        "\n",
        "for i in range(len(norm_errs)):\n",
        "  for j in range(len(norm_errs[i])):\n",
        "    if norm_errs[i,j] > 1e-5:\n",
        "      failures[i] = failures[i] + 1\n",
        "\n",
        "percent_failures = failures/10\n",
        "\n",
        "plt.scatter(n_list, percent_failures)\n",
        "plt.plot(n_list, percent_failures, linestyle=\"solid\")\n",
        "plt.title(\"Failure rate with varying n\")\n",
        "plt.xlabel(\"n=k value\")\n",
        "plt.ylabel(\"failure rate\")\n",
        "for i, val in enumerate(percent_failures):\n",
        "  plt.annotate(val, (n_list[i], percent_failures[i]))"
      ],
      "metadata": {
        "colab": {
          "base_uri": "https://localhost:8080/",
          "height": 295
        },
        "id": "dRP4b-abSqLw",
        "outputId": "8f81b38f-7fc6-436a-efd7-d3e41b81e661"
      },
      "execution_count": null,
      "outputs": [
        {
          "output_type": "display_data",
          "data": {
            "text/plain": [
              "<Figure size 432x288 with 1 Axes>"
            ],
            "image/png": "[encoded data removed]"
          },
          "metadata": {
            "needs_background": "light"
          }
        }
      ]
    },
    {
      "cell_type": "markdown",
      "source": [
        "As we can see by this, when k = n and n is sufficiently large, this GMRes implementation with sketching rarely if ever fails."
      ],
      "metadata": {
        "id": "ZI-T8Yvxv8ow"
      }
    },
    {
      "cell_type": "markdown",
      "source": [
        "The following code does the same as the above two code blocks, but for k < n."
      ],
      "metadata": {
        "id": "GUst6Fc-v5UV"
      }
    },
    {
      "cell_type": "code",
      "source": [
        "n_list = [5, 10, 20, 50, 100]\n",
        "norm_errs = np.zeros((len(n_list),10))\n",
        "\n",
        "sketch = True\n",
        "\n",
        "if (sketch):\n",
        "  def my_sketch(sketch_mat, mat):\n",
        "    return sketch_mat @ mat\n",
        "else:\n",
        "  def my_sketch(sketch_mat, mat):\n",
        "    return mat\n",
        "\n",
        "h = 0\n",
        "for n in n_list:\n",
        "  for i in range(len(norm_errs[0])):\n",
        "    k = n - 1\n",
        "    A = np.random.rand(n,n)\n",
        "    x_true = np.random.rand(n,1)\n",
        "    x_true /= np.linalg.norm(x_true)\n",
        "    b = np.dot(A,x_true)\n",
        "    sketch_mat = Theta_Matrix(k,n)\n",
        "    Q, R, x, iter = my_random_gmres(A, b, x_true, sketch_mat, sketch)\n",
        "    norm_errs[h,i] = sum(abs(x_true - x))\n",
        "  h = h + 1"
      ],
      "metadata": {
        "colab": {
          "base_uri": "https://localhost:8080/"
        },
        "id": "YvM5skH4wD2r",
        "outputId": "05b895b0-9eb0-4628-aa58-631f3db991d2"
      },
      "execution_count": null,
      "outputs": [
        {
          "output_type": "stream",
          "name": "stderr",
          "text": [
            "/usr/local/lib/python3.7/dist-packages/ipykernel_launcher.py:16: FutureWarning: `rcond` parameter will change to the default of machine precision times ``max(M, N)`` where M and N are the input matrix dimensions.\n",
            "To use the future default and silence this warning we advise to pass `rcond=None`, to keep using the old, explicitly pass `rcond=-1`.\n",
            "  app.launch_new_instance()\n"
          ]
        }
      ]
    },
    {
      "cell_type": "code",
      "source": [
        "failures = np.zeros(len(norm_errs))\n",
        "\n",
        "for i in range(len(norm_errs)):\n",
        "  for j in range(len(norm_errs[i])):\n",
        "    if norm_errs[i,j] > 1e-5:\n",
        "      failures[i] = failures[i] + 1\n",
        "\n",
        "percent_failures = failures/10\n",
        "\n",
        "plt.scatter(n_list, percent_failures)\n",
        "plt.plot(n_list, percent_failures, linestyle=\"solid\")\n",
        "plt.title(\"Failure rate with varying n\")\n",
        "plt.xlabel(\"n > k value\")\n",
        "plt.ylabel(\"failure rate\")\n",
        "for i, val in enumerate(percent_failures):\n",
        "  plt.annotate(val, (n_list[i], percent_failures[i]))"
      ],
      "metadata": {
        "colab": {
          "base_uri": "https://localhost:8080/",
          "height": 295
        },
        "id": "jdAE-P4GwD9s",
        "outputId": "670f3c85-b119-49b2-ecbf-4353356c9f55"
      },
      "execution_count": null,
      "outputs": [
        {
          "output_type": "display_data",
          "data": {
            "text/plain": [
              "<Figure size 432x288 with 1 Axes>"
            ],
            "image/png": "[encoded data removed]"
          },
          "metadata": {
            "needs_background": "light"
          }
        }
      ]
    },
    {
      "cell_type": "markdown",
      "source": [
        "As we can see by the plot above, when k < n, the random GMRes algorithm fails every time. Given the fact that both algo_2 and find_x run properly with sketching k < n, we are not sure why this failure happens at this point, and we will continue to look into it."
      ],
      "metadata": {
        "id": "Is69dt5byIkT"
      }
    },
    {
      "cell_type": "markdown",
      "source": [
        "The following code does the same as the code above, but without sketching."
      ],
      "metadata": {
        "id": "KccbSStJywmk"
      }
    },
    {
      "cell_type": "code",
      "source": [
        "n_list = [5, 10, 20, 50, 100]\n",
        "norm_errs = np.zeros((len(n_list),10))\n",
        "\n",
        "sketch = False\n",
        "\n",
        "if (sketch):\n",
        "  def my_sketch(sketch_mat, mat):\n",
        "    return sketch_mat @ mat\n",
        "else:\n",
        "  def my_sketch(sketch_mat, mat):\n",
        "    return mat\n",
        "\n",
        "h = 0\n",
        "for n in n_list:\n",
        "  for i in range(len(norm_errs[0])):\n",
        "    A = np.random.rand(n,n)\n",
        "    x_true = np.random.rand(n,1)\n",
        "    x_true /= np.linalg.norm(x_true)\n",
        "    b = np.dot(A,x_true)\n",
        "    sketch_mat = Theta_Matrix(n,n)\n",
        "    Q, R, x, iter = my_random_gmres(A, b, x_true, sketch_mat, sketch)\n",
        "    norm_errs[h,i] = sum(abs(x_true - x))\n",
        "  h = h + 1"
      ],
      "metadata": {
        "colab": {
          "base_uri": "https://localhost:8080/"
        },
        "id": "Z4h5KPZny1Zl",
        "outputId": "37d1a17d-67c4-4d25-cc76-f088a317cdfb"
      },
      "execution_count": null,
      "outputs": [
        {
          "output_type": "stream",
          "name": "stderr",
          "text": [
            "/usr/local/lib/python3.7/dist-packages/ipykernel_launcher.py:16: FutureWarning: `rcond` parameter will change to the default of machine precision times ``max(M, N)`` where M and N are the input matrix dimensions.\n",
            "To use the future default and silence this warning we advise to pass `rcond=None`, to keep using the old, explicitly pass `rcond=-1`.\n",
            "  app.launch_new_instance()\n"
          ]
        }
      ]
    },
    {
      "cell_type": "code",
      "source": [
        "failures = np.zeros(len(norm_errs))\n",
        "\n",
        "for i in range(len(norm_errs)):\n",
        "  for j in range(len(norm_errs[i])):\n",
        "    if norm_errs[i,j] > 1e-5:\n",
        "      failures[i] = failures[i] + 1\n",
        "\n",
        "percent_failures = failures/10\n",
        "\n",
        "plt.scatter(n_list, percent_failures)\n",
        "plt.plot(n_list, percent_failures, linestyle=\"solid\")\n",
        "plt.title(\"Failure rate with varying n\")\n",
        "plt.xlabel(\"n=k value\")\n",
        "plt.ylabel(\"failure rate\")\n",
        "for i, val in enumerate(percent_failures):\n",
        "  plt.annotate(val, (n_list[i], percent_failures[i]))"
      ],
      "metadata": {
        "colab": {
          "base_uri": "https://localhost:8080/",
          "height": 295
        },
        "id": "ko7j4mPDy1eU",
        "outputId": "987ff416-e1a2-48ff-e347-7cc96ee963b6"
      },
      "execution_count": null,
      "outputs": [
        {
          "output_type": "display_data",
          "data": {
            "text/plain": [
              "<Figure size 432x288 with 1 Axes>"
            ],
            "image/png": "[encoded data removed]"
          },
          "metadata": {
            "needs_background": "light"
          }
        }
      ]
    },
    {
      "cell_type": "markdown",
      "source": [
        "As we can see by the above code, when sketching is not being used, the algorithm never fails."
      ],
      "metadata": {
        "id": "CxCGeb7rzWvP"
      }
    },
    {
      "cell_type": "markdown",
      "source": [
        "## Algo 2 Function Testing"
      ],
      "metadata": {
        "id": "lS4MpFFLz1th"
      }
    },
    {
      "cell_type": "markdown",
      "source": [
        "The following code tests algo_2 with and without sketching. With sketching, the code tests algo_2 for several n values and k values. Without sketching, the code tests algo_2 for several n values and m values."
      ],
      "metadata": {
        "id": "OV6O4_lJz4K_"
      }
    },
    {
      "cell_type": "code",
      "source": [
        "def m_list(n):\n",
        "  m = []\n",
        "  m.append(np.ceil(n * 0.2))\n",
        "  m.append(np.ceil(n * 0.5))\n",
        "  m.append(np.ceil(n * 0.8))\n",
        "  m.append(np.ceil(n))\n",
        "  return m\n",
        "def k_list(n):\n",
        "  k = []\n",
        "  k.append(np.ceil(n * 0.2))\n",
        "  k.append(np.ceil(n * 0.50))\n",
        "  k.append(np.ceil(n* 0.8))\n",
        "  k.append(n)\n",
        "  return k\n",
        "\n",
        "  # Function outputs 3D Array of truples categorized as such: [n value, m value, iteration] = (accuracy, orthogonality)\n",
        "def Algo2_Testing(n_list, trials):\n",
        "  def algo_Results(A):\n",
        "    sketch_mat = np.identity(n)\n",
        "    ALGO_Q, ALGO_R = algo_2(A, sketch_mat, False)\n",
        "    ALGO_results = A - mat_mul(ALGO_Q, ALGO_R)\n",
        "    ALGO_Ortho = np.identity(np.shape(A)[1]) - ALGO_Q.T @ ALGO_Q\n",
        "    ALGO_norm = np.linalg.norm(ALGO_results)/np.linalg.norm(A)\n",
        "    ALGO_Onorm = np.linalg.norm(ALGO_Ortho)/(np.sqrt(np.shape(A)[1]))\n",
        "    return (ALGO_norm, ALGO_Onorm)\n",
        "  Algo = []\n",
        "  for n in n_list:\n",
        "    l = []\n",
        "    sketch_mat = np.identity(n)\n",
        "    for m in m_list(n):\n",
        "      i = []\n",
        "      A = np.random.rand(int(n), int(m))\n",
        "      for t in range(trials):\n",
        "        i.append(algo_Results(A))\n",
        "      l.append(i)\n",
        "    Algo.append(l)\n",
        "  return Algo\n",
        "\n",
        "\n",
        "# Function outputs 3D Array of truples categorized as such: [n value, k value, iteration] = (accuracy, orthogonality)\n",
        "# The m value is always equal to the lowest k value used.\n",
        "def SAlgo2_Testing(n_list,trials):\n",
        "  def salgo_Results(A, sketch_mat):\n",
        "    SALGO_Q, SALGO_R = algo_2(A, sketch_mat, True)\n",
        "    SALGO_results = A - mat_mul(SALGO_Q, SALGO_R)\n",
        "    SALGO_Ortho = (sketch_mat @ SALGO_Q).T @ sketch_mat @ SALGO_Q - np.identity(np.shape(A)[1])\n",
        "    SALGO_norm = np.linalg.norm(SALGO_results)/np.linalg.norm(A)\n",
        "    SALGO_Onorm = np.linalg.norm(SALGO_Ortho)/(np.sqrt(np.shape(A)[1]))\n",
        "    return (SALGO_norm, SALGO_Onorm)\n",
        "  SAlgo = []\n",
        "  for n in n_list:\n",
        "    l = []\n",
        "    sketch_mat = np.identity(n)\n",
        "    k_lst = k_list(n)\n",
        "    m = min(k_lst)\n",
        "    for k in k_lst:\n",
        "      i = []\n",
        "      A = np.random.rand(int(n), int(m))\n",
        "      sketch_mat=Theta_Matrix(int(k),int(n))\n",
        "      for t in range(trials):\n",
        "        i.append(salgo_Results(A, sketch_mat))\n",
        "      l.append(i)\n",
        "    SAlgo.append(l)\n",
        "  return SAlgo"
      ],
      "metadata": {
        "id": "Vi9QZLSdi7iq"
      },
      "execution_count": null,
      "outputs": []
    },
    {
      "cell_type": "code",
      "source": [
        "classic_results = (Algo2_Testing([50,100,250,500], 1))\n",
        "sketch_results = (SAlgo2_Testing([50,100,250,500], 1))"
      ],
      "metadata": {
        "id": "VaKkm5jB0WwZ"
      },
      "execution_count": null,
      "outputs": []
    },
    {
      "cell_type": "markdown",
      "source": [
        "The following code plots errors for several n and m values without sketching."
      ],
      "metadata": {
        "id": "HGOfm1Cr0YwZ"
      }
    },
    {
      "cell_type": "code",
      "source": [
        "n_list = [50,100,250,500]\n",
        "acc = np.zeros((len(n_list),len(n_list)))\n",
        "\n",
        "p = 0\n",
        "for n in classic_results:\n",
        "  q = 0\n",
        "  for m in n:\n",
        "    for i in m:\n",
        "      acc[p,q] = i[0]\n",
        "    q = q + 1\n",
        "  p = p + 1\n",
        "\n",
        "colors = [\"r\",\"b\",\"g\",\"m\"]\n",
        "\n",
        "for i in range(len(n_list)):\n",
        "  m = m_list(int(n_list[i]))\n",
        "  plt.scatter(m, acc[i], c=colors[i])\n",
        "\n",
        "plt.legend([line.Line2D([0],[0],marker='o',color='w',label='n = 50', markerfacecolor='r', markersize=10),\n",
        "          line.Line2D([0],[0],marker='o',color='w',label='n = 100', markerfacecolor='b', markersize=10),\n",
        "          line.Line2D([0],[0],marker='o',color='w',label='n = 250', markerfacecolor='g', markersize=10),\n",
        "          line.Line2D([0],[0],marker='o',color='w',label='n = 500', markerfacecolor='m', markersize=10)])\n",
        "\n",
        "plt.title(\"Error without sketching\")\n",
        "plt.xlabel(\"m\")\n",
        "plt.ylabel(\"error\")\n",
        "\n",
        "plt.show()"
      ],
      "metadata": {
        "colab": {
          "base_uri": "https://localhost:8080/",
          "height": 295
        },
        "id": "pyggDmZ_0loT",
        "outputId": "a4469def-b5fc-4c37-b799-002e22d5b61b"
      },
      "execution_count": null,
      "outputs": [
        {
          "output_type": "display_data",
          "data": {
            "text/plain": [
              "<Figure size 432x288 with 1 Axes>"
            ],
            "image/png": "[encoded data removed]"
          },
          "metadata": {
            "needs_background": "light"
          }
        }
      ]
    },
    {
      "cell_type": "markdown",
      "source": [
        "The shape of this plot is deceiving, but in general it shows how the error does get slightly larger as $n$ and $m$ increase. However, note that all these values are below $1e-16$, so hey are still extremely small errors."
      ],
      "metadata": {
        "id": "AF-hFlbG-VFl"
      }
    },
    {
      "cell_type": "markdown",
      "source": [
        "The following code plots errors for several n and k values with sketching."
      ],
      "metadata": {
        "id": "B8Wb_pHR0lu9"
      }
    },
    {
      "cell_type": "code",
      "source": [
        "n_list = [50,100,250,500]\n",
        "acc = np.zeros((len(n_list),len(n_list)))\n",
        "\n",
        "p = 0\n",
        "for n in sketch_results:\n",
        "  q = 0\n",
        "  for m in n:\n",
        "    for i in m:\n",
        "      acc[p,q] = i[0]\n",
        "    q = q + 1\n",
        "  p = p + 1\n",
        "\n",
        "colors = [\"r\",\"b\",\"g\",\"m\"]\n",
        "\n",
        "for i in range(len(n_list)):\n",
        "  m = m_list(int(n_list[i]))\n",
        "  plt.scatter(m, acc[i], c=colors[i])\n",
        "\n",
        "plt.legend([line.Line2D([0],[0],marker='o',color='w',label='n = 50', markerfacecolor='r', markersize=10),\n",
        "          line.Line2D([0],[0],marker='o',color='w',label='n = 100', markerfacecolor='b', markersize=10),\n",
        "          line.Line2D([0],[0],marker='o',color='w',label='n = 250', markerfacecolor='g', markersize=10),\n",
        "          line.Line2D([0],[0],marker='o',color='w',label='n = 500', markerfacecolor='m', markersize=10)])\n",
        "\n",
        "plt.title(\"Error with sketching\")\n",
        "plt.xlabel(\"k\")\n",
        "plt.ylabel(\"error\")\n",
        "\n",
        "plt.show()"
      ],
      "metadata": {
        "colab": {
          "base_uri": "https://localhost:8080/",
          "height": 295
        },
        "id": "yRdGXNYy0pu_",
        "outputId": "651d2fdb-3c66-4b26-af2b-37aea45b622b"
      },
      "execution_count": null,
      "outputs": [
        {
          "output_type": "display_data",
          "data": {
            "text/plain": [
              "<Figure size 432x288 with 1 Axes>"
            ],
            "image/png": "[encoded data removed]"
          },
          "metadata": {
            "needs_background": "light"
          }
        }
      ]
    },
    {
      "cell_type": "markdown",
      "source": [
        "This plot interestingly has a different shape than the previous one, and an unexpected one. The error sometimes decreases and sometimes increases as the k value increases. This may be due to the nature of sketching, but is noteworthy nonetheless."
      ],
      "metadata": {
        "id": "xRa5fUUt-eua"
      }
    },
    {
      "cell_type": "markdown",
      "source": [
        "The following code tests the failure rate for algo_2 after many tests, with several n values."
      ],
      "metadata": {
        "id": "O6VlqovU0qCf"
      }
    },
    {
      "cell_type": "code",
      "source": [
        "def failure_testing_algo(n_list = [50,100,250,500], it = 10, sketch = False):\n",
        "  if sketch:\n",
        "    print(\"Testing Algo 2 with sketching\")\n",
        "    results = SAlgo2_Testing(n_list, it)\n",
        "  else:\n",
        "    print(\"Testing Algo 2 without sketching\")\n",
        "    results = Algo2_Testing(n_list, it)\n",
        "  \n",
        "  A_fail = 0\n",
        "  O_fail = 0\n",
        "  total = 0\n",
        "  A_thresh = 1e-10\n",
        "  O_thresh = 1e-10\n",
        "  for n in results:\n",
        "    for m in n:\n",
        "      for i in m:\n",
        "        total += 1\n",
        "        if i[0] > A_thresh:\n",
        "          A_fail += 1\n",
        "        if i[1] > O_thresh:\n",
        "          O_fail += 1\n",
        "  print(\"Total number of operations: \")\n",
        "  print(total)\n",
        "  print(\"Operations with error over \", A_thresh)\n",
        "  print(\"{0:.0%}\".format(A_fail/total))\n",
        "  print(\"Operations with orthogonality over \", O_thresh)\n",
        "  print(\"{0:.0%}\".format(O_fail/total))\n",
        "  print()\n",
        "\n",
        "failure_testing_algo(it = 15)\n",
        "failure_testing_algo(it = 15, sketch = True)"
      ],
      "metadata": {
        "colab": {
          "base_uri": "https://localhost:8080/"
        },
        "id": "uwpG91VvuKNl",
        "outputId": "9fc037a8-c54c-4f1c-b41e-688c806e0c85"
      },
      "execution_count": null,
      "outputs": [
        {
          "output_type": "stream",
          "name": "stdout",
          "text": [
            "Testing Algo 2 without sketching\n",
            "Total number of operations: \n",
            "240\n",
            "Operations with error over  1e-10\n",
            "0%\n",
            "Operations with orthogonality over  1e-10\n",
            "0%\n",
            "\n",
            "Testing Algo 2 with sketching\n",
            "Total number of operations: \n",
            "240\n",
            "Operations with error over  1e-10\n",
            "0%\n",
            "Operations with orthogonality over  1e-10\n",
            "0%\n",
            "\n"
          ]
        }
      ]
    },
    {
      "cell_type": "markdown",
      "source": [
        "#Conclusion"
      ],
      "metadata": {
        "id": "wk3AIQj8YfH0"
      }
    },
    {
      "cell_type": "markdown",
      "source": [
        "The issues from our predecesores was difficult to resolve, but in a few cases we were able to uncover hidden successes such as last spring's randomized Gram-Schmidt which was previously beleived to not produce an orthagonal result but only becasue they we're calculated it's orthagonality relitive to the dot product of the theta sketching matrix. We are proud of that face that we have a functioning GMRes code and it's interesting to see that when using it with sketching we received great results when k = n but mixed resutls when k < n. This inconsitency is baffling but we are as sure as we can be that our algo 2 and find_x functions have no issues, so we suspect the issues lies with the make up of the theta matrix it's self. We beleive our work has created the strongest foundation yet for future classes to work off of and we encourge those how follow to use our work to continue to investigate these complex algorithms and further research into this area."
      ],
      "metadata": {
        "id": "D9d-U3GUD0fk"
      }
    },
    {
      "cell_type": "markdown",
      "source": [
        "#Bibliography"
      ],
      "metadata": {
        "id": "tgWK5xc8GUCv"
      }
    },
    {
      "cell_type": "markdown",
      "source": [
        "Balabanov, O., & Grigori, L. (2022, January 18). *Randomized Gram-Schmidt process with applications to GMRes.* https://arxiv.org/abs/2011.05090\n",
        "\n",
        "Batchelder, W., Matrinez, V., & Vue, J. *NREL - rGS Project.* https://colab.research.google.com/drive/1F8fiuN3Qg2zQ0EMobHcCDuuLVlwqkTWv\n",
        "\n",
        "Sauer, T. (2018). Generalized Minimum Residual (GMRES) Method. *Numerical Analysis* (3rd ed. pp. 235-239). Pearson.\n",
        "\n",
        "Wikimedia Foundation. (2022, Feburary 22). *Generalized minimal residual method.* Wikipedia. https://en.wikipedia.org/wiki/Generalized_minimal_residual_method"
      ],
      "metadata": {
        "id": "aqrhxJEJGZyr"
      }
    }
  ]
}